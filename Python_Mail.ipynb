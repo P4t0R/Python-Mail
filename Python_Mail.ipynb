{
  "nbformat": 4,
  "nbformat_minor": 0,
  "metadata": {
    "colab": {
      "name": "IMAP_v8.ipynb",
      "provenance": [],
      "collapsed_sections": [
        "bZYITIcVWdsX",
        "qOGzdfRi8zSr",
        "N01ImdD4BYdX",
        "0HDkvHoJBndK",
        "d0vGl9nvbFtg"
      ]
    },
    "kernelspec": {
      "name": "python3",
      "display_name": "Python 3"
    },
    "language_info": {
      "name": "python"
    }
  },
  "cells": [
    {
      "cell_type": "markdown",
      "metadata": {
        "id": "YsA52FEN5_O6"
      },
      "source": [
        "### **Gmail Python Imaplib**\n",
        "\n",
        "Imaplib es una librería que permite acceder a su correo electrónico mediante el protocolo IMAP, cuando lee un mensaje de correo electrónico con IMAP, en realidad no lo descarga ni almacena en el equipo solo está leyendo desde el servicio de correo electrónico. \n",
        "\n",
        "<br>\n",
        "\n",
        "Si recibes un error de autentificación, debes probar los siguiente:\n",
        "\n",
        "* Activar el Acceso de apps menos seguras: [Google Account> Security> Less secure app access](https://myaccount.google.com/lesssecureapps)\n",
        "\n",
        "* Activar acceso IMAP: [Gmail Settings> Forwarding and POP / IMAP> IMAP Acess](https://mail.google.com/mail/u/6/?tab=km#settings/fwdandpop)\n",
        "\n",
        "\n",
        "* Desactivar verificación en 2 pasos: [Google Account> Security](https://myaccount.google.com/u/5/security)\n",
        "\n",
        "\n",
        "* Permitir el acceso a tu Cuenta de Google: [DisplayUnlockCaptcha](https://accounts.google.com/b/0/DisplayUnlockCaptcha)\n",
        "\n",
        "\n",
        "<br>\n",
        "<br>\n",
        "<br>\n",
        "\n",
        "Paginas de interes:\n",
        "\n",
        "* [Documentación Imaplib](https://docs.python.org/es/3/library/imaplib.html)\n",
        "* [GitHub Imap-Tools](https://github.com/ikvk/imap_tools)\n",
        "\n",
        "* [Simple Guide to Manage Mailboxes](https://coderzcolumn.com/tutorials/python/imaplib-simple-guide-to-manage-mailboxes-using-python)\n",
        "\n",
        "* [How to read, send and delete emails](https://geekyhumans.com/how-to-read-send-and-delete-emails-using-python/)\n",
        "\n",
        "* [Biblioteca de cliente IMAP4](https://rico-schmidt.name/pymotw-3/imaplib/index.html)\n"
      ]
    },
    {
      "cell_type": "markdown",
      "metadata": {
        "id": "bZYITIcVWdsX"
      },
      "source": [
        "#### **Inicio**"
      ]
    },
    {
      "cell_type": "code",
      "metadata": {
        "id": "6zBYYs1Q7UK3"
      },
      "source": [
        "#importamos librerías necesarias\n",
        "import smtplib\n",
        "import time\n",
        "import imaplib\n",
        "import email\n",
        "import traceback "
      ],
      "execution_count": 1,
      "outputs": []
    },
    {
      "cell_type": "code",
      "metadata": {
        "id": "kRXUyytA7mn8"
      },
      "source": [
        "#Credenciales\n",
        "user = 'mi_mail@gmail.com'\n",
        "password = 'pass_mail'\n",
        "\n",
        "#Servidores Read\n",
        "imap = 'imap.gmail.com' \n",
        "imap_port = 993\n",
        "\n",
        "#Servidores Send\n",
        "smtp = 'smtp.gmail.com'\n",
        "smtp_port = 465\n",
        "\n",
        "#Clase IMAP4 con SSL - Autentificación\n",
        "imap = imaplib.IMAP4_SSL('imap.gmail.com')\n",
        "imap.login(user, password)"
      ],
      "execution_count": null,
      "outputs": []
    },
    {
      "cell_type": "code",
      "metadata": {
        "id": "U4HUZF0TWiCG"
      },
      "source": [
        ""
      ],
      "execution_count": null,
      "outputs": []
    },
    {
      "cell_type": "markdown",
      "metadata": {
        "id": "qOGzdfRi8zSr"
      },
      "source": [
        "#### **Leer correo**"
      ]
    },
    {
      "cell_type": "markdown",
      "metadata": {
        "id": "0A22fUIiXtEo"
      },
      "source": [
        "Muestra solamente remitente y sujeto"
      ]
    },
    {
      "cell_type": "code",
      "metadata": {
        "id": "B7tVHFM-5uo_"
      },
      "source": [
        "#Selección de carpeta - Filtro\n",
        "imap.select('inbox')\n",
        "data = imap.search(None, 'ALL')\n",
        "\n",
        "mail_ids = data[1]\n",
        "id_list = mail_ids[0].split()   \n",
        "first_email_id = int(id_list[0])\n",
        "latest_email_id = int(id_list[-1])\n",
        "\n",
        "for i in range(latest_email_id,first_email_id, -1):\n",
        "    data = imap.fetch(str(i), '(RFC822)' )\n",
        "    for response_part in data:\n",
        "        arr = response_part[0]\n",
        "        if isinstance(arr, tuple):\n",
        "            msg = email.message_from_string(str(arr[1],'utf-8'))\n",
        "            email_subject = msg['subject']\n",
        "            email_from = msg['from']\n",
        "            print('Desde : ' + email_from)\n",
        "            print('Sujeto : ' + email_subject)\n",
        "            print(\"=\"*100)\n",
        "            \n",
        "#Cerrar conexión\n",
        "imap.close()\n",
        "imap.logout()"
      ],
      "execution_count": null,
      "outputs": []
    },
    {
      "cell_type": "code",
      "metadata": {
        "id": "mymQd8-5WjhD"
      },
      "source": [
        ""
      ],
      "execution_count": null,
      "outputs": []
    },
    {
      "cell_type": "markdown",
      "metadata": {
        "id": "N01ImdD4BYdX"
      },
      "source": [
        "#### **Enviar correo**"
      ]
    },
    {
      "cell_type": "code",
      "metadata": {
        "id": "uPsCaemRBYdX"
      },
      "source": [
        "#importamos librería necesaría\n",
        "import smtplib\n",
        "\n",
        "#Credenciales Correo y Password\n",
        "user = 'mi_mail@gmail.com'\n",
        "password = 'pass_mail'\n",
        "\n",
        "\n",
        "#Crea servidor SMTP - Inicia TLS para seguridad - Autentificación\n",
        "server = smtplib.SMTP('smtp.gmail.com', 587)\n",
        "server.starttls()\n",
        "server.login(user, password)\n",
        "\n",
        "#Cuerpo del correo\n",
        "message = 'prueba de mensaje por python'\n",
        "\n",
        "#Enviar correo Remitente - Destinatario - Correo\n",
        "server.sendmail('mi_mail@gmail.com', 'Destinatario@gmail.com', message)\n",
        "\n",
        "print('Correo enviado')\n",
        "\n",
        "#Cerrar sesión\n",
        "server.quit"
      ],
      "execution_count": null,
      "outputs": []
    },
    {
      "cell_type": "code",
      "metadata": {
        "id": "IBMwCqEUWlMq"
      },
      "source": [
        ""
      ],
      "execution_count": null,
      "outputs": []
    },
    {
      "cell_type": "markdown",
      "metadata": {
        "id": "0HDkvHoJBndK"
      },
      "source": [
        "#### **Enviar correo HTML**"
      ]
    },
    {
      "cell_type": "code",
      "metadata": {
        "id": "VC1WpQtYB4Pk"
      },
      "source": [
        "#importamos librerías necesarias\n",
        "import os\n",
        "import smtplib\n",
        "from email.mime.text import MIMEText\n",
        "from email.mime.multipart import MIMEMultipart\n"
      ],
      "execution_count": null,
      "outputs": []
    },
    {
      "cell_type": "code",
      "metadata": {
        "id": "q4BbXtLZWxhl"
      },
      "source": [
        "#Eviar correo con HTML\n",
        "\n",
        "#Credenciales Correo y Password\n",
        "user = 'mi_mail@gmail.com'\n",
        "password = 'pass_mail'\n",
        "\n",
        "text = MIMEMultipart()\n",
        "\n",
        "#Sujeto del correo\n",
        "text['Subject'] = f'Alerta AWS {mcnt}'\n",
        "\n",
        "#Remitente - Destinatario\n",
        "text['From'] = user\n",
        "text['To'] = 'Destinatario_mail@gmail.com'\n",
        "\n",
        "#Armando correo\n",
        "html_content = MIMEText(msj, 'html')\n",
        "text.attach(html_content)\n",
        "\n",
        "#Crea servidor SMTP - Inicia TLS para seguridad - Autentificación\n",
        "server = smtplib.SMTP('smtp.gmail.com', 587) #port 465\n",
        "server.starttls()\n",
        "server.login(user, password)\n",
        "\n",
        "#Enviando correo Remitente - Destinatario - Correo\n",
        "server.sendmail(user, user, text.as_string())\n",
        "\n",
        "print(f'Correo enviado {mcnt}')\n",
        "\n",
        "#Cerrar conexión\n",
        "server.quit()"
      ],
      "execution_count": null,
      "outputs": []
    },
    {
      "cell_type": "code",
      "metadata": {
        "id": "H_V4ep5aBc6n"
      },
      "source": [
        "#Remitente - Destinatario\n",
        "text['From'] = user\n",
        "text['To'] = 'mi_mail@gmail.com'\n",
        "\n",
        "\n",
        "text = MIMEMultipart()\n",
        "\n",
        "#Sujeto del correo\n",
        "text['Subject'] = 'Test HTML Content'\n",
        "\n",
        "#Cuerpo HTML\n",
        "msg = \"\"\"\\\n",
        "<!DOCTYPE html>\n",
        "<html lang=\"en\">\n",
        "<head>\n",
        "    <meta charset=\"UTF-8\">\n",
        "    <meta http-equiv=\"X-UA-Compatible\" content=\"IE=edge\">\n",
        "    <meta name=\"viewport\" content=\"width=device-width, initial-scale=1.0\">\n",
        "    <title>Document</title>\n",
        "    <style>\n",
        "        pre, p {\n",
        "            font-size: 1.5em;\n",
        "            color: #FE7F88;\n",
        "            background-color: transparent;\n",
        "        }\n",
        "        div {\n",
        "        background-image: url(\"https://free3d.com/imgd/l80/5ec791a726be8b985a8b4567/9671-beautiful-scenery-morning-evening-night.png\");\n",
        "        background-size: cover;\n",
        "        }\n",
        "        p {\n",
        "        background-image: none;\n",
        "        }\n",
        "    </style>\n",
        "</head>\n",
        "<body>\n",
        "    <div>\n",
        "        <p>\n",
        "            Este es un correo de prueba <br> usando HTML.\n",
        "        </p>\n",
        "    </div>\n",
        "    <p>Prueba Correo</p>\n",
        "</body>\n",
        "</html>\n",
        "\"\"\"\n",
        "#Armando correo\n",
        "html_content = MIMEText(msg, 'html')\n",
        "text.attach(html_content)\n",
        "\n",
        "#Enviando correo\n",
        "s = smtplib.SMTP_SSL(smtp, smtp_port)\n",
        "s.login(sender, password)\n",
        "s.sendmail(sender, receiver, text.as_string())\n",
        "\n",
        "print('Correo enviado')\n",
        "\n",
        "#Cerrar conexión\n",
        "s.quit()"
      ],
      "execution_count": null,
      "outputs": []
    },
    {
      "cell_type": "markdown",
      "metadata": {
        "id": "d0vGl9nvbFtg"
      },
      "source": [
        "#### **Eliminar correo**"
      ]
    },
    {
      "cell_type": "code",
      "metadata": {
        "colab": {
          "base_uri": "https://localhost:8080/"
        },
        "id": "yoXj0fpQVtc4",
        "outputId": "291d1874-14b5-4737-9a9c-d18d988c584c"
      },
      "source": [
        "#Clase IMAP4 con SSL - Autentificación\n",
        "imap = imaplib.IMAP4_SSL('imap.gmail.com')\n",
        "imap.login(username, password)\n",
        "\n",
        "#Seleecionar carpeta\n",
        "imap.select('inbox')\n",
        "\n",
        "#Filtros posibles\n",
        "#typ, data = imap.search(None, 'SUBJECT \"hello\"') #Filter by subject\n",
        "#typ, data = imap.search(None, 'FROM \"example@gmail.com\"') #Filter by sender\n",
        "#typ, data = imap.search(None, 'SINCE \"015-JUN-2020\"') #Filter by date\n",
        "#typ, data = imap.search(None, 'ALL') #Filter by all\n",
        "\n",
        "#Eliminar todos los correos\n",
        "typ, data = imap.search(None, 'ALL') \n",
        "\n",
        "#Convertir correo en id\n",
        "for num in data[0].split():\n",
        "    #Eliminar mail\n",
        "    imap.store(num, '+FLAGS', r'(\\Deleted)')\n",
        "\n",
        "print('Correos Eliminados !')\n",
        "\n",
        "#Borrado permanente - Cerrar correo - Cerrar  sesión\n",
        "imap.expunge()\n",
        "imap.close()\n",
        "imap.logout()"
      ],
      "execution_count": null,
      "outputs": [
        {
          "output_type": "stream",
          "name": "stdout",
          "text": [
            "Correos Eliminados !\n"
          ]
        },
        {
          "output_type": "execute_result",
          "data": {
            "text/plain": [
              "('BYE', [b'LOGOUT Requested'])"
            ]
          },
          "metadata": {},
          "execution_count": 87
        }
      ]
    }
  ]
}